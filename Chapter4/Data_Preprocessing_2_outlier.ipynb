{
  "nbformat": 4,
  "nbformat_minor": 0,
  "metadata": {
    "colab": {
      "provenance": [],
      "authorship_tag": "ABX9TyMSA24ToYzqZV+S/3LXvyux",
      "include_colab_link": true
    },
    "kernelspec": {
      "name": "python3",
      "display_name": "Python 3"
    },
    "language_info": {
      "name": "python"
    }
  },
  "cells": [
    {
      "cell_type": "markdown",
      "metadata": {
        "id": "view-in-github",
        "colab_type": "text"
      },
      "source": [
        "<a href=\"https://colab.research.google.com/github/hws2002/Master-Python-with-Just-One-Book-ADP/blob/main/Chapter4/Data_Preprocessing_2_outlier.ipynb\" target=\"_parent\"><img src=\"https://colab.research.google.com/assets/colab-badge.svg\" alt=\"Open In Colab\"/></a>"
      ]
    },
    {
      "cell_type": "markdown",
      "source": [
        "# 2. 이상치 확인\n",
        "wine 데이터세트의 'color_intensity' 컬럼에서 IQR방식으로 이상치를 탐색해보자"
      ],
      "metadata": {
        "id": "XSvLqtCR_Aw3"
      }
    },
    {
      "cell_type": "code",
      "execution_count": 36,
      "metadata": {
        "id": "7velpVRA37X7"
      },
      "outputs": [],
      "source": [
        "import pandas as pd\n",
        "import matplotlib.pyplot as plt\n",
        "from sklearn.datasets import load_wine\n",
        "wine_load = load_wine()\n",
        "wine = pd.DataFrame(wine_load.data, columns = wine_load.feature_names)\n",
        "wine['Class'] = wine_load.target\n",
        "wine['Class'] = wine['Class'].map({0:\"class_0\", 1 : \"class_1\", 2 : \"class_2\"})"
      ]
    },
    {
      "cell_type": "code",
      "source": [
        "plt.boxplot(wine['color_intensity'], whis = 1.5)\n",
        "plt.title('color_intensity')\n",
        "plt.show()"
      ],
      "metadata": {
        "colab": {
          "base_uri": "https://localhost:8080/",
          "height": 452
        },
        "id": "_44POltz_XkH",
        "outputId": "106783e2-9d1c-4dfc-af36-2808c39a2fd7"
      },
      "execution_count": 37,
      "outputs": [
        {
          "output_type": "display_data",
          "data": {
            "text/plain": [
              "<Figure size 640x480 with 1 Axes>"
            ],
            "image/png": "[encoded data removed]"
          },
          "metadata": {}
        }
      ]
    },
    {
      "cell_type": "code",
      "source": [
        "# 이상치를 가져오는 함수로 만들어 이상치의 위치와 값을 확인해보자\n",
        "import numpy as np\n",
        "def outliers_iqr(dt, col):\n",
        "  q1, q3 = np.percentile(dt[col], [25,75])\n",
        "  iqr = q3-q1\n",
        "  lower_whis = q1 - (iqr * 1.5)\n",
        "  upper_whis = q3 + (iqr * 1.5)\n",
        "  outliers = dt[ (dt[col] > upper_whis) | (dt[col] < lower_whis)]\n",
        "  return outliers[col]\n",
        "\n",
        "outliers = outliers_iqr(wine, 'color_intensity')\n",
        "outliers"
      ],
      "metadata": {
        "colab": {
          "base_uri": "https://localhost:8080/",
          "height": 210
        },
        "id": "ZMGytvst_ivl",
        "outputId": "6db284e2-7d69-40e3-9ff1-afc181a907ec"
      },
      "execution_count": 38,
      "outputs": [
        {
          "output_type": "execute_result",
          "data": {
            "text/plain": [
              "151    10.80\n",
              "158    13.00\n",
              "159    11.75\n",
              "166    10.68\n",
              "Name: color_intensity, dtype: float64"
            ],
            "text/html": [
              "<div>\n",
              "<style scoped>\n",
              "    .dataframe tbody tr th:only-of-type {\n",
              "        vertical-align: middle;\n",
              "    }\n",
              "\n",
              "    .dataframe tbody tr th {\n",
              "        vertical-align: top;\n",
              "    }\n",
              "\n",
              "    .dataframe thead th {\n",
              "        text-align: right;\n",
              "    }\n",
              "</style>\n",
              "<table border=\"1\" class=\"dataframe\">\n",
              "  <thead>\n",
              "    <tr style=\"text-align: right;\">\n",
              "      <th></th>\n",
              "      <th>color_intensity</th>\n",
              "    </tr>\n",
              "  </thead>\n",
              "  <tbody>\n",
              "    <tr>\n",
              "      <th>151</th>\n",
              "      <td>10.80</td>\n",
              "    </tr>\n",
              "    <tr>\n",
              "      <th>158</th>\n",
              "      <td>13.00</td>\n",
              "    </tr>\n",
              "    <tr>\n",
              "      <th>159</th>\n",
              "      <td>11.75</td>\n",
              "    </tr>\n",
              "    <tr>\n",
              "      <th>166</th>\n",
              "      <td>10.68</td>\n",
              "    </tr>\n",
              "  </tbody>\n",
              "</table>\n",
              "</div><br><label><b>dtype:</b> float64</label>"
            ]
          },
          "metadata": {},
          "execution_count": 38
        }
      ]
    },
    {
      "cell_type": "markdown",
      "source": [
        "# 3. 이상치 정제"
      ],
      "metadata": {
        "id": "kIPVA-jfBF_Q"
      }
    },
    {
      "cell_type": "markdown",
      "source": [
        "## 3-1. 이상치 제거"
      ],
      "metadata": {
        "id": "Y2hWZ9orBjIR"
      }
    },
    {
      "cell_type": "code",
      "source": [
        "drop_outliers = wine.drop(index = outliers.index)\n",
        "\n",
        "# 이상치를 삭제하기 전과 후의 데이터 shape\n",
        "print(\"original : \", wine.shape)\n",
        "print(\"Drop outliers : \", drop_outliers.shape)"
      ],
      "metadata": {
        "colab": {
          "base_uri": "https://localhost:8080/"
        },
        "id": "3tjVszoBAGT4",
        "outputId": "e82c46e1-aa9d-44d0-b3a8-ce9ab120a9aa"
      },
      "execution_count": 39,
      "outputs": [
        {
          "output_type": "stream",
          "name": "stdout",
          "text": [
            "original :  (178, 14)\n",
            "Drop outliers :  (174, 14)\n"
          ]
        }
      ]
    },
    {
      "cell_type": "markdown",
      "source": [
        "## 3-2. 이상치 대체"
      ],
      "metadata": {
        "id": "-lcZMZw3BktI"
      }
    },
    {
      "cell_type": "code",
      "source": [
        "print(wine.loc[outliers.index,'color_intensity'])\n",
        "wine.loc[outliers.index, 'color_intensity'] = np.NaN\n",
        "print(wine.loc[outliers.index,'color_intensity'])\n",
        "print(\"wine['color_intensity].mean : \", wine['color_intensity'].mean())\n",
        "\n",
        "print(wine.loc[wine['color_intensity'].isna()])\n",
        "wine['color_intensity'] = wine['color_intensity'].fillna( wine['color_intensity'].mean() )\n",
        "wine.loc[outliers.index, 'color_intensity']"
      ],
      "metadata": {
        "colab": {
          "base_uri": "https://localhost:8080/",
          "height": 724
        },
        "id": "UgfqRXo-BP7a",
        "outputId": "a87bfcdc-8eb5-4e02-c298-371a63a49168"
      },
      "execution_count": 42,
      "outputs": [
        {
          "output_type": "stream",
          "name": "stdout",
          "text": [
            "151    4.908678\n",
            "158    4.908678\n",
            "159    4.908678\n",
            "166    4.908678\n",
            "Name: color_intensity, dtype: float64\n",
            "151   NaN\n",
            "158   NaN\n",
            "159   NaN\n",
            "166   NaN\n",
            "Name: color_intensity, dtype: float64\n",
            "wine['color_intensity].mean :  4.908678155172414\n",
            "     alcohol  malic_acid   ash  alcalinity_of_ash  magnesium  total_phenols  \\\n",
            "151    12.79        2.67  2.48               22.0      112.0           1.48   \n",
            "158    14.34        1.68  2.70               25.0       98.0           2.80   \n",
            "159    13.48        1.67  2.64               22.5       89.0           2.60   \n",
            "166    13.45        3.70  2.60               23.0      111.0           1.70   \n",
            "\n",
            "     flavanoids  nonflavanoid_phenols  proanthocyanins  color_intensity   hue  \\\n",
            "151        1.36                  0.24             1.26              NaN  0.48   \n",
            "158        1.31                  0.53             2.70              NaN  0.57   \n",
            "159        1.10                  0.52             2.29              NaN  0.57   \n",
            "166        0.92                  0.43             1.46              NaN  0.85   \n",
            "\n",
            "     od280/od315_of_diluted_wines  proline    Class  \n",
            "151                          1.47    480.0  class_2  \n",
            "158                          1.96    660.0  class_2  \n",
            "159                          1.78    620.0  class_2  \n",
            "166                          1.56    695.0  class_2  \n"
          ]
        },
        {
          "output_type": "execute_result",
          "data": {
            "text/plain": [
              "151    4.908678\n",
              "158    4.908678\n",
              "159    4.908678\n",
              "166    4.908678\n",
              "Name: color_intensity, dtype: float64"
            ],
            "text/html": [
              "<div>\n",
              "<style scoped>\n",
              "    .dataframe tbody tr th:only-of-type {\n",
              "        vertical-align: middle;\n",
              "    }\n",
              "\n",
              "    .dataframe tbody tr th {\n",
              "        vertical-align: top;\n",
              "    }\n",
              "\n",
              "    .dataframe thead th {\n",
              "        text-align: right;\n",
              "    }\n",
              "</style>\n",
              "<table border=\"1\" class=\"dataframe\">\n",
              "  <thead>\n",
              "    <tr style=\"text-align: right;\">\n",
              "      <th></th>\n",
              "      <th>color_intensity</th>\n",
              "    </tr>\n",
              "  </thead>\n",
              "  <tbody>\n",
              "    <tr>\n",
              "      <th>151</th>\n",
              "      <td>4.908678</td>\n",
              "    </tr>\n",
              "    <tr>\n",
              "      <th>158</th>\n",
              "      <td>4.908678</td>\n",
              "    </tr>\n",
              "    <tr>\n",
              "      <th>159</th>\n",
              "      <td>4.908678</td>\n",
              "    </tr>\n",
              "    <tr>\n",
              "      <th>166</th>\n",
              "      <td>4.908678</td>\n",
              "    </tr>\n",
              "  </tbody>\n",
              "</table>\n",
              "</div><br><label><b>dtype:</b> float64</label>"
            ]
          },
          "metadata": {},
          "execution_count": 42
        }
      ]
    },
    {
      "cell_type": "code",
      "source": [],
      "metadata": {
        "id": "T8vSluAnBykE"
      },
      "execution_count": 40,
      "outputs": []
    }
  ]
}